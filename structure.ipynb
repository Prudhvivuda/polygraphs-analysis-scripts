{
 "cells": [
  {
   "cell_type": "code",
   "execution_count": 1,
   "metadata": {},
   "outputs": [
    {
     "ename": "ModuleNotFoundError",
     "evalue": "No module named 'polygraphs'",
     "output_type": "error",
     "traceback": [
      "\u001b[0;31m---------------------------------------------------------------------------\u001b[0m",
      "\u001b[0;31mModuleNotFoundError\u001b[0m                       Traceback (most recent call last)",
      "Cell \u001b[0;32mIn[1], line 5\u001b[0m\n\u001b[1;32m      2\u001b[0m \u001b[38;5;28;01mimport\u001b[39;00m \u001b[38;5;21;01mpandas\u001b[39;00m \u001b[38;5;28;01mas\u001b[39;00m \u001b[38;5;21;01mpd\u001b[39;00m\n\u001b[1;32m      3\u001b[0m \u001b[38;5;28;01mimport\u001b[39;00m \u001b[38;5;21;01mnetworkx\u001b[39;00m \u001b[38;5;28;01mas\u001b[39;00m \u001b[38;5;21;01mnx\u001b[39;00m\n\u001b[0;32m----> 5\u001b[0m \u001b[38;5;28;01mfrom\u001b[39;00m \u001b[38;5;21;01mpolygraphs\u001b[39;00m\u001b[38;5;21;01m.\u001b[39;00m\u001b[38;5;21;01manalysis\u001b[39;00m \u001b[38;5;28;01mimport\u001b[39;00m Processor\n\u001b[1;32m      7\u001b[0m \u001b[38;5;28;01mclass\u001b[39;00m \u001b[38;5;21;01mStructureProcessor\u001b[39;00m(Processor):\n\u001b[1;32m      8\u001b[0m     \u001b[38;5;28;01mdef\u001b[39;00m \u001b[38;5;21m__init__\u001b[39m(\u001b[38;5;28mself\u001b[39m, path):\n",
      "\u001b[0;31mModuleNotFoundError\u001b[0m: No module named 'polygraphs'"
     ]
    }
   ],
   "source": [
    "import numpy as np\n",
    "import pandas as pd\n",
    "import networkx as nx\n",
    "\n",
    "from polygraphs.analysis import Processor\n",
    "\n",
    "class StructureProcessor(Processor):\n",
    "    def __init__(self, path):\n",
    "        super().__init__(path)\n",
    "        # Add the columns when processor is initialised\n",
    "        self.add(self.length(), self.edges(), self.clustering(), self.diameter())\n",
    "\n",
    "    def length(self):\n",
    "        \"\"\"Determine the length (=size) of the graph for all sims\"\"\"\n",
    "        length_list = [len(graph) for graph in self.graphs]\n",
    "        self.dataframe[\"length\"] = length_list  \n",
    "        \n",
    "    def edges(self):\n",
    "        \"\"\"Use NetworkX to count number of edges in graph for all sims\"\"\"\n",
    "        edges_list = [nx.number_of_edges(graph) for graph in self.graphs]\n",
    "        self.dataframe[\"edges\"] = edges_list\n",
    "\n",
    "    def clustering(self):\n",
    "        \"\"\"Use NetworkX to calculate the average clustering coefficient in graph for all sims\"\"\"\n",
    "        clustering_list = [nx.average_clustering(graph) for graph in self.graphs]\n",
    "        self.dataframe[\"avg clustering\"] = clustering_list\n",
    "\n",
    "    def density(self):\n",
    "        \"\"\"Use NetworkX to calculate the density of the graph for all sims\"\"\"\n",
    "        density_list = [nx.density(graph) for graph in self.graphs]\n",
    "        self.dataframe[\"density\"] = density_list\n",
    "    \n",
    "    def diameter(self):\n",
    "        \"\"\"Use NetworkX to calculate the diameter of the graph for all sims\"\"\"\n",
    "        diameter_list = [nx.diameter(graph) for graph in self.graphs]\n",
    "        self.dataframe[\"diameter\"] = diameter_list       "
   ]
  },
  {
   "cell_type": "code",
   "execution_count": null,
   "metadata": {},
   "outputs": [],
   "source": [
    "x = StructureProcessor(\"~/polygraphs-cache/results/\")\n",
    "x.get()"
   ]
  },
  {
   "cell_type": "code",
   "execution_count": null,
   "metadata": {},
   "outputs": [],
   "source": [
    "x.get().shape"
   ]
  },
  {
   "cell_type": "code",
   "execution_count": null,
   "metadata": {},
   "outputs": [],
   "source": [
    "x.get().count()"
   ]
  },
  {
   "cell_type": "code",
   "execution_count": null,
   "metadata": {},
   "outputs": [],
   "source": [
    "x.get().to_csv('structure_index.csv')"
   ]
  }
 ],
 "metadata": {
  "kernelspec": {
   "display_name": "Python 3",
   "language": "python",
   "name": "python3"
  },
  "language_info": {
   "name": "python",
   "version": "3.9.6"
  }
 },
 "nbformat": 4,
 "nbformat_minor": 2
}
